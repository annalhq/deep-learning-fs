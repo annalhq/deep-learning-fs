{
 "cells": [
  {
   "cell_type": "markdown",
   "id": "a35d9d75-1c95-412b-88c4-8809fcf23f4d",
   "metadata": {},
   "source": [
    "# 1. Foundations"
   ]
  },
  {
   "cell_type": "markdown",
   "id": "612ba55b-88cd-4b8b-9697-b089901a4cd1",
   "metadata": {},
   "source": [
    "* A neural network is a computational graph through which multidimensional arrays flow\n",
    "* A neural network is an universl function approximator that can is theory represent the solution to any supervised learning problem "
   ]
  },
  {
   "cell_type": "markdown",
   "id": "8338d319-103c-47ed-8fcc-923070bb43fe",
   "metadata": {},
   "source": [
    "## Functions"
   ]
  },
  {
   "cell_type": "code",
   "execution_count": 1,
   "id": "cfbbd309-bfb4-40a9-9fe0-589f5c6b54cc",
   "metadata": {},
   "outputs": [],
   "source": [
    "def f(x):\n",
    "    return max(x,0)"
   ]
  },
  {
   "cell_type": "code",
   "execution_count": 3,
   "id": "16ebaaa2-50a3-49f2-bad7-9fb91e48f606",
   "metadata": {},
   "outputs": [
    {
     "name": "stdout",
     "output_type": "stream",
     "text": [
      "0\n"
     ]
    }
   ],
   "source": [
    "print(f(-2))"
   ]
  },
  {
   "cell_type": "code",
   "execution_count": null,
   "id": "e30c6d8f-73ee-4e3b-ad9d-695e6fec16d1",
   "metadata": {},
   "outputs": [],
   "source": []
  }
 ],
 "metadata": {
  "kernelspec": {
   "display_name": "Python 3 (ipykernel)",
   "language": "python",
   "name": "python3"
  },
  "language_info": {
   "codemirror_mode": {
    "name": "ipython",
    "version": 3
   },
   "file_extension": ".py",
   "mimetype": "text/x-python",
   "name": "python",
   "nbconvert_exporter": "python",
   "pygments_lexer": "ipython3",
   "version": "3.13.1"
  }
 },
 "nbformat": 4,
 "nbformat_minor": 5
}
